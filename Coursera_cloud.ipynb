{
 "cells": [
  {
   "cell_type": "code",
   "execution_count": 1,
   "id": "ce1d234d",
   "metadata": {},
   "outputs": [
    {
     "name": "stdout",
     "output_type": "stream",
     "text": [
      "hello world\n"
     ]
    }
   ],
   "source": [
    "print('hello world')"
   ]
  },
  {
   "cell_type": "markdown",
   "id": "cb2f14a8",
   "metadata": {},
   "source": [
    "# 1st Title\n",
    "\n",
    "this is the test for Markdown function"
   ]
  },
  {
   "cell_type": "markdown",
   "id": "1347d0cd",
   "metadata": {},
   "source": [
    "## 2nd Title"
   ]
  },
  {
   "cell_type": "code",
   "execution_count": null,
   "id": "b9b84855",
   "metadata": {},
   "outputs": [],
   "source": []
  }
 ],
 "metadata": {
  "kernelspec": {
   "display_name": "Python 3 (ipykernel)",
   "language": "python",
   "name": "python3"
  },
  "language_info": {
   "codemirror_mode": {
    "name": "ipython",
    "version": 3
   },
   "file_extension": ".py",
   "mimetype": "text/x-python",
   "name": "python",
   "nbconvert_exporter": "python",
   "pygments_lexer": "ipython3",
   "version": "3.8.2"
  }
 },
 "nbformat": 4,
 "nbformat_minor": 5
}
